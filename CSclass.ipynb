{
  "nbformat": 4,
  "nbformat_minor": 0,
  "metadata": {
    "colab": {
      "provenance": [],
      "toc_visible": true
    },
    "kernelspec": {
      "name": "python3",
      "display_name": "Python 3"
    },
    "language_info": {
      "name": "python"
    }
  },
  "cells": [
    {
      "cell_type": "markdown",
      "source": [
        "# **三個範例程式碼！！註解不用抄**"
      ],
      "metadata": {
        "id": "n69zWVHsxUmz"
      }
    },
    {
      "cell_type": "code",
      "source": [
        "# n和m是做一樣的事，可以觀察一下\n",
        "target = [0,1,2,3,4,5,6,7,8,9]\n",
        "\n",
        "n = [i for i in target if i % 2 != 0]\n",
        "\n",
        "m = []\n",
        "for j in target:\n",
        "  if (j % 2 != 0):\n",
        "    m.append(j)\n",
        "\n",
        "print(n)\n",
        "print(m)"
      ],
      "metadata": {
        "id": "KF3XAbl1xa1N",
        "colab": {
          "base_uri": "https://localhost:8080/"
        },
        "outputId": "2d7ae804-0234-4aef-8158-a61a32552b57"
      },
      "execution_count": null,
      "outputs": [
        {
          "output_type": "stream",
          "name": "stdout",
          "text": [
            "[1, 3, 5, 7, 9]\n",
            "[1, 3, 5, 7, 9]\n"
          ]
        }
      ]
    },
    {
      "cell_type": "code",
      "source": [
        "#6-23 矩陣相加\n",
        "a = [[1,2,3],[4,5,6],[7,8,9],[10,11,12]]\n",
        "b = [[1,2,3],[4,5,6],[7,8,9],[10,11,12]]\n",
        "inner = [] #大list中的小list\n",
        "full = [] #大的list\n",
        "\n",
        "#注意有兩個matrix\n",
        "for i in range(len(a)):\n",
        "  for j in range(len(a[i])):\n",
        "    inner.append(a[i][j]+b[i][j])\n",
        "  full.append(inner)\n",
        "  inner = []\n",
        "\n",
        "#只有一個matrix\n",
        "for i in full:\n",
        "  for j in range(len(i)):\n",
        "    print(i[j], end=\"\\t\")\n",
        "  print(\"\\n\")\n"
      ],
      "metadata": {
        "colab": {
          "base_uri": "https://localhost:8080/"
        },
        "id": "-15tRM4QxdSz",
        "outputId": "dca43da3-e24f-4bf5-c592-37ffae8824da"
      },
      "execution_count": null,
      "outputs": [
        {
          "output_type": "stream",
          "name": "stdout",
          "text": [
            "2\t4\t6\t\n",
            "\n",
            "8\t10\t12\t\n",
            "\n",
            "14\t16\t18\t\n",
            "\n",
            "20\t22\t24\t\n",
            "\n"
          ]
        }
      ]
    },
    {
      "cell_type": "code",
      "source": [
        "s = \"I am MVP\"\n",
        "reversed_s = \"\"\n",
        "i = len(s) - 1\n",
        "\n",
        "while i >= 0:\n",
        "    reversed_s += s[i]\n",
        "    i -= 1\n",
        "\n",
        "print(f\"Reversed: {reversed_s}\") #f-string用法 知道一下唄"
      ],
      "metadata": {
        "colab": {
          "base_uri": "https://localhost:8080/"
        },
        "id": "svo4ZRtWygqr",
        "outputId": "29a62f78-2661-4aad-bd10-1f003e862414"
      },
      "execution_count": null,
      "outputs": [
        {
          "output_type": "stream",
          "name": "stdout",
          "text": [
            "Reversed: PVM ma I\n"
          ]
        }
      ]
    },
    {
      "cell_type": "markdown",
      "source": [
        "# **這是列表生成式的語法，[運算表達式 for 變數 in 可迭代對象 if 條件]，主要用途就是用來生成列表（list）**"
      ],
      "metadata": {
        "id": "NH0k9RcmIGZV"
      }
    },
    {
      "cell_type": "code",
      "execution_count": null,
      "metadata": {
        "colab": {
          "base_uri": "https://localhost:8080/"
        },
        "id": "o_NFL4pBBguR",
        "outputId": "b26a593c-4558-48dd-ce60-c22317253cee"
      },
      "outputs": [
        {
          "output_type": "stream",
          "name": "stdout",
          "text": [
            "[0, 1, 2, 3, 4, 5, 6, 7, 8, 9]\n",
            "[1, 3, 5, 7, 9]\n"
          ]
        }
      ],
      "source": [
        "n = [i for i in range(10)]\n",
        "m = [j for j in n if j%2 != 0]\n",
        "print(n)\n",
        "print(m)"
      ]
    },
    {
      "cell_type": "code",
      "source": [
        "# @title Alternative(Traditional Method)\n",
        "n = [i for i in range(10)]\n",
        "m = []\n",
        "for j in n:\n",
        "  if (j % 2 != 0):\n",
        "    m.append(j)\n",
        "print(n)\n",
        "print(m)"
      ],
      "metadata": {
        "colab": {
          "base_uri": "https://localhost:8080/"
        },
        "id": "Y_a2SyXdHMLe",
        "outputId": "076f7892-8573-48e6-a8f9-a84dc6a7241c"
      },
      "execution_count": null,
      "outputs": [
        {
          "output_type": "stream",
          "name": "stdout",
          "text": [
            "[0, 1, 2, 3, 4, 5, 6, 7, 8, 9]\n",
            "[1, 3, 5, 7, 9]\n"
          ]
        }
      ]
    },
    {
      "cell_type": "code",
      "source": [
        "s1 = {1,3,5}\n",
        "s2 = {3,5,7,9}\n",
        "\n",
        "s3 = s1.union(s2)\n",
        "s1.update(s2)\n",
        "print(s1)"
      ],
      "metadata": {
        "colab": {
          "base_uri": "https://localhost:8080/"
        },
        "id": "R3FOc30j3FJr",
        "outputId": "0b208d88-2c2b-4405-8056-ce58ff919c6e"
      },
      "execution_count": null,
      "outputs": [
        {
          "output_type": "stream",
          "name": "stdout",
          "text": [
            "{1, 3, 5, 7, 9}\n"
          ]
        }
      ]
    },
    {
      "cell_type": "markdown",
      "source": [
        "# **Dictionary複習,包含完整操作**"
      ],
      "metadata": {
        "id": "f-4Q1X6mNd6x"
      }
    },
    {
      "cell_type": "code",
      "source": [
        "person = {'name': 'Vic', 'age': 18, 'Loss rate':'None', 'Nickname':'Lizard'}#Key:name age, Value:Eric,74"
      ],
      "metadata": {
        "id": "oNY6P9zHNhPB"
      },
      "execution_count": null,
      "outputs": []
    },
    {
      "cell_type": "markdown",
      "source": [
        "找Value:已知key"
      ],
      "metadata": {
        "id": "bUvjMO_PSyuo"
      }
    },
    {
      "cell_type": "code",
      "source": [
        "print(person['name'])#直接訪問,不存在 => Error\n",
        "print(person.get('name','Not found')) #安全訪問, 不存在 => Default:None, 自行設定:Not found"
      ],
      "metadata": {
        "colab": {
          "base_uri": "https://localhost:8080/"
        },
        "id": "09WMZnNBS1aw",
        "outputId": "b8e4e478-cba9-4452-bf4a-afee5fb60a95"
      },
      "execution_count": null,
      "outputs": [
        {
          "output_type": "stream",
          "name": "stdout",
          "text": [
            "Vic\n",
            "Vic\n"
          ]
        }
      ]
    },
    {
      "cell_type": "markdown",
      "source": [
        "操作字典"
      ],
      "metadata": {
        "id": "ym7LOzeeTy4l"
      }
    },
    {
      "cell_type": "code",
      "source": [
        "person[\"Department\"] = \"TCM\" #新增\n",
        "person['age'] = 19 #更改\n",
        "person.update({\"age\": 40, \"job\": \"F1 Driver\"}) #合併兩個字典。如果有相同的鍵，後面的字典會覆蓋前面的值\n",
        "\n",
        "del person['Loss rate'] #刪除\n",
        "\n",
        "nickname = person.pop('Nickname') #刪除並return至nickname\n",
        "new_person = person.copy() #複製字典\n",
        "\n",
        "print(person.items())#return所有 鍵、值\n",
        "print(person.keys())\n",
        "print(person.values())\n",
        "print(\"\\n\")\n",
        "\n",
        "print(person)\n",
        "print(nickname)"
      ],
      "metadata": {
        "colab": {
          "base_uri": "https://localhost:8080/"
        },
        "id": "kNP6LI61TxZr",
        "outputId": "4942b047-4521-48dd-fb04-8ccf3560d986"
      },
      "execution_count": null,
      "outputs": [
        {
          "output_type": "stream",
          "name": "stdout",
          "text": [
            "dict_items([('name', 'Vic'), ('age', 40), ('Department', 'TCM'), ('job', 'F1 Driver')])\n",
            "dict_keys(['name', 'age', 'Department', 'job'])\n",
            "dict_values(['Vic', 40, 'TCM', 'F1 Driver'])\n",
            "\n",
            "\n",
            "{'name': 'Vic', 'age': 40, 'Department': 'TCM', 'job': 'F1 Driver'}\n",
            "Lizard\n"
          ]
        }
      ]
    },
    {
      "cell_type": "code",
      "source": [
        "print(\"Hi\",end = \"\")\n",
        "print(\"Hello\\v\",end = \"\")\n",
        "print(\"Hi\\t\",end = \"\")\n",
        "print(\"Why\")"
      ],
      "metadata": {
        "colab": {
          "base_uri": "https://localhost:8080/"
        },
        "id": "oOmt_TQK5Y4H",
        "outputId": "1ff303cd-1d42-40db-a0ef-3c7477eeecf5"
      },
      "execution_count": null,
      "outputs": [
        {
          "output_type": "stream",
          "name": "stdout",
          "text": [
            "HiHello\u000bHi\tWhy\n"
          ]
        }
      ]
    },
    {
      "cell_type": "markdown",
      "source": [
        "用Value找Key"
      ],
      "metadata": {
        "id": "cwyUtY6UYujC"
      }
    },
    {
      "cell_type": "code",
      "source": [
        "key = None\n",
        "print(person.items())\n",
        "for k, v in person.items(): #k->key, v->value\n",
        "    if v == \"Vic\":\n",
        "        key = k\n",
        "        break\n",
        "\n",
        "print(key)  # 輸出：name"
      ],
      "metadata": {
        "colab": {
          "base_uri": "https://localhost:8080/"
        },
        "id": "xxj96zQ0YiwE",
        "outputId": "7d760d15-6693-46ff-806f-f527ec5c17a1"
      },
      "execution_count": null,
      "outputs": [
        {
          "output_type": "stream",
          "name": "stdout",
          "text": [
            "dict_items([('name', 'Vic'), ('age', 40), ('Department', 'TCM'), ('job', 'F1 Driver')])\n",
            "name\n"
          ]
        }
      ]
    },
    {
      "cell_type": "code",
      "source": [
        "#解釋上面k->key, v->value用法\n",
        "a = [[1,2,3],[4,5,6]]\n",
        "for x,y,z in a:\n",
        "  print(x)"
      ],
      "metadata": {
        "colab": {
          "base_uri": "https://localhost:8080/"
        },
        "id": "Kwv6UB4rrOfV",
        "outputId": "a226141f-067c-4bb6-c187-4d91f4d6595b"
      },
      "execution_count": null,
      "outputs": [
        {
          "output_type": "stream",
          "name": "stdout",
          "text": [
            "1\n",
            "4\n"
          ]
        }
      ]
    },
    {
      "cell_type": "code",
      "source": [
        "s = {(1,2),(3,4),(5,6)}\n",
        "list(s)"
      ],
      "metadata": {
        "colab": {
          "base_uri": "https://localhost:8080/"
        },
        "id": "8OqKjXXhmoxG",
        "outputId": "9f4ef200-1898-44fb-d40f-dde12f70984a"
      },
      "execution_count": null,
      "outputs": [
        {
          "output_type": "execute_result",
          "data": {
            "text/plain": [
              "[(1, 2), (3, 4), (5, 6)]"
            ]
          },
          "metadata": {},
          "execution_count": 2
        }
      ]
    },
    {
      "cell_type": "markdown",
      "source": [
        "# **CH2 Review**"
      ],
      "metadata": {
        "id": "5abfmQ1ZI1lZ"
      }
    },
    {
      "cell_type": "markdown",
      "source": [
        ", + 差別"
      ],
      "metadata": {
        "id": "as_dkbZVI8Bu"
      }
    },
    {
      "cell_type": "code",
      "source": [
        "a,b=\"a\",\"b\"\n",
        "print(a,b)\n",
        "print(a,b,sep = \"\") #By setting sep=\"\" (an empty string), you effectively remove the space.\n",
        "print(a+b)"
      ],
      "metadata": {
        "colab": {
          "base_uri": "https://localhost:8080/"
        },
        "id": "GUSnJEm0Hczi",
        "outputId": "58c231ec-6e2e-43bb-f0ea-6d041b2b9a18"
      },
      "execution_count": null,
      "outputs": [
        {
          "output_type": "stream",
          "name": "stdout",
          "text": [
            "a b\n",
            "ab\n",
            "ab\n"
          ]
        }
      ]
    },
    {
      "cell_type": "code",
      "source": [
        "#P3\n",
        "beat = int(input(\"How old: \"))\n",
        "beat = beat*365.25\n",
        "print(int(beat))"
      ],
      "metadata": {
        "colab": {
          "base_uri": "https://localhost:8080/"
        },
        "id": "xBQPTWxmI-oZ",
        "outputId": "f4a2d6e9-729a-43d3-a5b8-07dbf8f5ecaf"
      },
      "execution_count": null,
      "outputs": [
        {
          "output_type": "stream",
          "name": "stdout",
          "text": [
            "How old: 80\n",
            "29220\n"
          ]
        }
      ]
    },
    {
      "cell_type": "code",
      "source": [
        "#P4\n",
        "f = int(input(\"Enter: \"))\n",
        "c = (f-32)/1.8\n",
        "print(int(c))"
      ],
      "metadata": {
        "colab": {
          "base_uri": "https://localhost:8080/"
        },
        "id": "wHCWX3UYLpGp",
        "outputId": "bf9f8ba3-eb5a-4402-987e-07870b52b0b8"
      },
      "execution_count": null,
      "outputs": [
        {
          "output_type": "stream",
          "name": "stdout",
          "text": [
            "Enter: 32\n",
            "0\n"
          ]
        }
      ]
    },
    {
      "cell_type": "code",
      "source": [
        "#P6\n",
        "listStr = input(\"Enter h(m)/w(kg): \").split()\n",
        "h,w = float(listStr[0]),int(listStr[1])\n",
        "if (w/h**2)>18.5 and (w/h**2)<24:\n",
        "  print(\"OK\")\n",
        "  print(\"BMI\",(w/h**2))\n",
        "else:\n",
        "  print(\"Not Good\")\n",
        "  print(\"BMI\",(w/h**2))"
      ],
      "metadata": {
        "colab": {
          "base_uri": "https://localhost:8080/"
        },
        "id": "h_KCXCw-Nsk6",
        "outputId": "4ea29cef-6875-46a6-ee0b-f22f397aa7f9"
      },
      "execution_count": null,
      "outputs": [
        {
          "output_type": "stream",
          "name": "stdout",
          "text": [
            "Enter h(m)/w(kg): 1.65 48\n",
            "Not Good\n",
            "BMI 17.63085399449036\n"
          ]
        }
      ]
    },
    {
      "cell_type": "code",
      "source": [
        "#P7\n",
        "a = int(input(\"Enter a: \"))\n",
        "b = int(input(\"Enter b: \"))\n",
        "c = int(input(\"Enter c: \"))\n",
        "\n",
        "ans = (-b+((b**2)-4*a*c)**1/2)/2*a\n",
        "print(ans)"
      ],
      "metadata": {
        "colab": {
          "base_uri": "https://localhost:8080/"
        },
        "id": "GV9QHWfERt6j",
        "outputId": "c7fbce62-073f-4b78-b74d-baa4a15f19ae"
      },
      "execution_count": null,
      "outputs": [
        {
          "output_type": "stream",
          "name": "stdout",
          "text": [
            "Enter a: 2\n",
            "Enter b: 5\n",
            "Enter c: 2\n",
            "-0.5\n"
          ]
        }
      ]
    },
    {
      "cell_type": "markdown",
      "source": [
        "# **CH3 Review**\n"
      ],
      "metadata": {
        "id": "6Th5c81yLBqv"
      }
    },
    {
      "cell_type": "code",
      "source": [
        "#轉換\n",
        "string = \"Hello World\"\n",
        "print(string.upper())\n",
        "print(string.lower())\n",
        "print(string.swapcase()) #xor\n",
        "print(string.replace(\"World\",\"Russell\")) #替換\n",
        "print(str.capitalize(\"hello world\")) #第一個轉大寫\n",
        "print(str.title(\"hello world\")) #每個單字轉title"
      ],
      "metadata": {
        "colab": {
          "base_uri": "https://localhost:8080/"
        },
        "id": "OcB8spd2LYDj",
        "outputId": "ddaeb104-c950-49e3-a75a-f7e6639da28b"
      },
      "execution_count": null,
      "outputs": [
        {
          "output_type": "stream",
          "name": "stdout",
          "text": [
            "HELLO WORLD\n",
            "hello world\n",
            "hELLO wORLD\n",
            "Hello Russell\n",
            "Hello world\n",
            "Hello World\n"
          ]
        }
      ]
    },
    {
      "cell_type": "code",
      "source": [
        "#測試\n",
        "string = \"5happy\"\n",
        "string2 = \"str\"\n",
        "print(string.isalpha()) #all alpha\n",
        "print(string.isdigit()) #all num\n",
        "print(string.isalnum()) #all alpha or num\n",
        "\n",
        "print(string2.isidentifier()) #python's keyword name"
      ],
      "metadata": {
        "id": "cCstGsumMpKI"
      },
      "execution_count": null,
      "outputs": []
    },
    {
      "cell_type": "code",
      "source": [
        "string = \"www.com.twsw\"\n",
        "print(string.lstrip(\"cmowz.\"))\n",
        "\n",
        "'''\n",
        "w ← 在 chars 中 → 刪掉\n",
        "w ← 在 chars 中 → 刪掉\n",
        "w ← 在 chars 中 → 刪掉\n",
        ". ← 在 chars 中 → 刪掉\n",
        "c ← 在 chars 中 → 刪掉\n",
        "o ← 在 chars 中 → 刪掉\n",
        "m ← 在 chars 中 → 刪掉\n",
        ". ← 在 chars 中 → 刪掉\n",
        "t ← ❌ 不在 chars → 停止\n",
        "'''"
      ],
      "metadata": {
        "colab": {
          "base_uri": "https://localhost:8080/"
        },
        "id": "vdxqJw0CQh7i",
        "outputId": "b9cc3a12-c0ab-44d8-a5cb-a3854485f982"
      },
      "execution_count": null,
      "outputs": [
        {
          "output_type": "stream",
          "name": "stdout",
          "text": [
            "twsw\n"
          ]
        }
      ]
    },
    {
      "cell_type": "code",
      "source": [
        "\"%\".join([\"r1\",\"r2\"])\n",
        "\"How are you\".split()\n",
        "\n",
        "print(\"sw {0},{1}({2})\".format(\"x5\",\"0\",\"x6\"))"
      ],
      "metadata": {
        "colab": {
          "base_uri": "https://localhost:8080/"
        },
        "id": "1uHtkM5VS66O",
        "outputId": "8f192f9f-51eb-42c1-8a57-188ae6460296"
      },
      "execution_count": null,
      "outputs": [
        {
          "output_type": "stream",
          "name": "stdout",
          "text": [
            "H\n",
            "o\n",
            "w\n",
            " \n",
            "a\n",
            "r\n",
            "e\n",
            " \n",
            "y\n",
            "o\n",
            "u\n",
            "sw x5,x6(0)\n"
          ]
        }
      ]
    },
    {
      "cell_type": "markdown",
      "source": [
        "# **CH4 Review**"
      ],
      "metadata": {
        "id": "uAygYPpf5FQp"
      }
    },
    {
      "cell_type": "code",
      "source": [
        "#P1\n",
        "for i in range(1,101):\n",
        "  if i%13 == 0:\n",
        "    print(i)"
      ],
      "metadata": {
        "colab": {
          "base_uri": "https://localhost:8080/"
        },
        "id": "dfUTLfON5SAE",
        "outputId": "0de83406-83f3-4d28-ecfb-544fd7835179"
      },
      "execution_count": null,
      "outputs": [
        {
          "output_type": "stream",
          "name": "stdout",
          "text": [
            "13\n",
            "26\n",
            "39\n",
            "52\n",
            "65\n",
            "78\n",
            "91\n"
          ]
        }
      ]
    },
    {
      "cell_type": "code",
      "source": [
        "#P3\n",
        "a = 0.5\n",
        "b = 0\n",
        "for i in range(1,9):\n",
        "  b = b + a**i\n",
        "print(b)"
      ],
      "metadata": {
        "colab": {
          "base_uri": "https://localhost:8080/"
        },
        "id": "4cBocAeMPUuq",
        "outputId": "e95768d9-cc6f-4eb1-ca52-f91f78ecc9c8"
      },
      "execution_count": null,
      "outputs": [
        {
          "output_type": "stream",
          "name": "stdout",
          "text": [
            "0.00390625\n",
            "0.5\n",
            "0.75\n",
            "0.875\n",
            "0.9375\n",
            "0.96875\n",
            "0.984375\n",
            "0.9921875\n",
            "0.99609375\n",
            "0.99609375\n"
          ]
        }
      ]
    },
    {
      "cell_type": "code",
      "source": [
        "#P4\n",
        "for i in range(1,11):\n",
        "  a = a + (1/i)\n",
        "print(a)"
      ],
      "metadata": {
        "colab": {
          "base_uri": "https://localhost:8080/"
        },
        "id": "L7Y86fyEQig5",
        "outputId": "b1dd54e3-b3be-499d-ed4f-f6b387400c46"
      },
      "execution_count": null,
      "outputs": [
        {
          "output_type": "stream",
          "name": "stdout",
          "text": [
            "6.8579365079365076\n"
          ]
        }
      ]
    },
    {
      "cell_type": "code",
      "source": [
        "#P5 DO AGAIN\n",
        "income = int(input(\"Enter: \"))\n",
        "tax = 0\n",
        "\n",
        "#DO AGAIN\n",
        "\n",
        "if income < 0:\n",
        "  print(\"Positive number only\")\n",
        "else:\n",
        "  if income > 4400000:\n",
        "    print((income - 4400000)*0.4)\n",
        "    tax = tax + (income - 4400000)*0.4\n",
        "    income = 4400000\n",
        "  if income > 2350000:\n",
        "    print((income - 2350000)*0.3)\n",
        "    tax = tax + (income - 2350000)*0.3\n",
        "    income = 2350000\n",
        "  if income > 1170000:\n",
        "    print((income - 1170000)*0.2)\n",
        "    tax = tax + (income - 1170000)*0.2\n",
        "    income = 1170000\n",
        "  if income > 520000:\n",
        "    print((income - 520000)*0.12)\n",
        "    tax = tax + (income - 520000)*0.12\n",
        "    income = 520000\n",
        "  else:\n",
        "    print(income*0.05)\n",
        "    tax = tax + income*0.05\n",
        "print(tax)"
      ],
      "metadata": {
        "colab": {
          "base_uri": "https://localhost:8080/"
        },
        "id": "2-NNBKpLRZ2o",
        "outputId": "618d8742-4f18-43d2-d045-252475449144"
      },
      "execution_count": null,
      "outputs": [
        {
          "output_type": "stream",
          "name": "stdout",
          "text": [
            "Enter: 500000\n",
            "25000.0\n",
            "25000.0\n"
          ]
        }
      ]
    },
    {
      "cell_type": "code",
      "source": [
        "#P6\n",
        "a = 1\n",
        "i = 0\n",
        "while a < 1000000:\n",
        "  a = a*2\n",
        "  i += 1\n",
        "print(i)"
      ],
      "metadata": {
        "colab": {
          "base_uri": "https://localhost:8080/"
        },
        "id": "Jp1qv0PCWbRR",
        "outputId": "431781cc-3c26-434b-ca63-e7b01fff6a7e"
      },
      "execution_count": null,
      "outputs": [
        {
          "output_type": "stream",
          "name": "stdout",
          "text": [
            "30\n"
          ]
        }
      ]
    },
    {
      "cell_type": "code",
      "source": [
        "a = 25000\n",
        "i = 0\n",
        "while a < 50000:\n",
        "  a = a*1.03\n",
        "  i += 1\n",
        "print(i)"
      ],
      "metadata": {
        "colab": {
          "base_uri": "https://localhost:8080/"
        },
        "id": "ric2Z4ZMYIiI",
        "outputId": "db0b46c6-63b6-41c3-af32-98764cb523a5"
      },
      "execution_count": null,
      "outputs": [
        {
          "output_type": "stream",
          "name": "stdout",
          "text": [
            "24\n"
          ]
        }
      ]
    },
    {
      "cell_type": "markdown",
      "source": [
        "# **CH5 Review**"
      ],
      "metadata": {
        "id": "47eZM8XcXyqE"
      }
    },
    {
      "cell_type": "code",
      "source": [
        "def fibo(n):\n",
        "  if n == 1 or n == 2:\n",
        "    return 1\n",
        "  else:\n",
        "    return fibo(n-1) + fibo(n-2)\n",
        "\n",
        "for i in range(1,16):\n",
        "  print(fibo(i), end = \" \") #\\t 代表tab"
      ],
      "metadata": {
        "colab": {
          "base_uri": "https://localhost:8080/"
        },
        "id": "KlSJQ-Rmwxf4",
        "outputId": "7cce86d1-55b7-48d2-d088-2d2264486256"
      },
      "execution_count": null,
      "outputs": [
        {
          "output_type": "stream",
          "name": "stdout",
          "text": [
            "1 1 2 3 5 8 13 21 34 55 89 144 233 377 610 "
          ]
        }
      ]
    },
    {
      "cell_type": "code",
      "source": [
        "#P1\n",
        "def largest(*num_list):\n",
        "  num = list(num_list)\n",
        "  stack = 0\n",
        "  for i in range(len(num)):\n",
        "    if num[0]<num[i]:\n",
        "      stack = num[0]\n",
        "      num[0] = num[i]\n",
        "      num[i] = stack\n",
        "  print(num[0])\n",
        "\n",
        "largest(10,50,100,-10,-5)"
      ],
      "metadata": {
        "colab": {
          "base_uri": "https://localhost:8080/"
        },
        "id": "gYX90OSveAt5",
        "outputId": "b22eff15-2e68-4858-e825-3c1c7bc42789"
      },
      "execution_count": null,
      "outputs": [
        {
          "output_type": "stream",
          "name": "stdout",
          "text": [
            "100\n"
          ]
        }
      ]
    },
    {
      "cell_type": "code",
      "source": [
        "#P2\n",
        "def salary(hours, hourlypay, bonus = 0):\n",
        "  return hours * hourlypay + bonus"
      ],
      "metadata": {
        "id": "fb-N6Gk4kHqY"
      },
      "execution_count": null,
      "outputs": []
    },
    {
      "cell_type": "code",
      "source": [
        "#P4 IMPORTANT 質數判別\n",
        "#https://steam.oxxostudio.tw/category/python/example/find-prime.html#google_vignette\n",
        "\n",
        "def num(n):\n",
        "  for i in range(2,n):\n",
        "    if n % i == 0:\n",
        "      return False\n",
        "    else:\n",
        "      return True\n",
        "\n",
        "print(num(14))"
      ],
      "metadata": {
        "colab": {
          "base_uri": "https://localhost:8080/"
        },
        "id": "mOmRG06Yk4AI",
        "outputId": "3ae3b5cd-0a7f-47bb-e0ca-3b5b1d3d703a"
      },
      "execution_count": null,
      "outputs": [
        {
          "output_type": "stream",
          "name": "stdout",
          "text": [
            "False\n"
          ]
        }
      ]
    },
    {
      "cell_type": "code",
      "source": [
        "def Sum(P, r, t):\n",
        "  return int(P * (1 + r * t))\n",
        "\n",
        "P = int(input(\"請輸入本金: \"))\n",
        "r = float(input(\"請輸入年利率: \"))\n",
        "t = int(input(\"請輸入年數: \"))\n",
        "print(Sum(P, r, t))"
      ],
      "metadata": {
        "colab": {
          "base_uri": "https://localhost:8080/"
        },
        "id": "kcqDb2wYn-Am",
        "outputId": "21d852b2-e818-4ac0-c2f0-e9d46a9e554a"
      },
      "execution_count": null,
      "outputs": [
        {
          "output_type": "stream",
          "name": "stdout",
          "text": [
            "請輸入本金: 1000000\n",
            "請輸入年利率: 0.06\n",
            "請輸入年數: 3\n",
            "1180000\n"
          ]
        }
      ]
    },
    {
      "cell_type": "code",
      "source": [
        "def Sum(P, r, t):\n",
        "  return int(P * ((1+r)**t)) #P * pow((1+r),t) pow是power(指數)的意思\n",
        "\n",
        "P = int(input(\"請輸入本金: \"))\n",
        "r = float(input(\"請輸入年利率: \"))\n",
        "t = int(input(\"請輸入年數: \"))\n",
        "print(Sum(P, r, t))"
      ],
      "metadata": {
        "colab": {
          "base_uri": "https://localhost:8080/"
        },
        "id": "tJ2Bh5BhpStv",
        "outputId": "b69a5c7f-2a2f-43ba-cb9d-0ec8b7d6eb11"
      },
      "execution_count": null,
      "outputs": [
        {
          "output_type": "stream",
          "name": "stdout",
          "text": [
            "請輸入本金: 1000000\n",
            "請輸入年利率: 0.06\n",
            "請輸入年數: 3\n",
            "1191016\n"
          ]
        }
      ]
    },
    {
      "cell_type": "markdown",
      "source": [
        "# **CH6 Review**"
      ],
      "metadata": {
        "id": "AbZYzUda3BTj"
      }
    },
    {
      "cell_type": "code",
      "source": [
        "a = [1/i**2 for i in range(1,5) if i%2==0]\n",
        "print(a)\n",
        "print(sum(a))"
      ],
      "metadata": {
        "colab": {
          "base_uri": "https://localhost:8080/"
        },
        "id": "WR619lp_3LGu",
        "outputId": "6e31b21f-5444-48a0-e249-f72e8afbb42a"
      },
      "execution_count": null,
      "outputs": [
        {
          "output_type": "stream",
          "name": "stdout",
          "text": [
            "[0.25, 0.0625]\n",
            "0.3125\n"
          ]
        }
      ]
    },
    {
      "cell_type": "code",
      "source": [
        "#P2\n",
        "list1 = [5,10,15,20]\n",
        "print(list1 * 2)\n",
        "print(100 in list1)\n",
        "print(list1.index(15))\n",
        "print([i**2 for i in list1])\n",
        "print([i*5 for i in list1 if i<20])\n",
        "list1.reverse()"
      ],
      "metadata": {
        "colab": {
          "base_uri": "https://localhost:8080/"
        },
        "id": "gOrY4FCWXG0G",
        "outputId": "7e1f7ca9-674d-4573-b8d0-81f3e25b9a25"
      },
      "execution_count": null,
      "outputs": [
        {
          "output_type": "stream",
          "name": "stdout",
          "text": [
            "[5, 10, 15, 20, 5, 10, 15, 20]\n",
            "False\n",
            "2\n",
            "[25, 100, 225, 400]\n",
            "[25, 50, 75]\n"
          ]
        }
      ]
    },
    {
      "cell_type": "code",
      "source": [
        "#P3\n",
        "list1 = [54,2,40,22,17,22,60,35]\n",
        "target = 22\n",
        "for i in list1:\n",
        "  if i == target:\n",
        "    print(list1.index(i))\n",
        "    break"
      ],
      "metadata": {
        "colab": {
          "base_uri": "https://localhost:8080/"
        },
        "id": "yIehxkuIYcIs",
        "outputId": "0dce8f21-3105-4861-b7fd-b6f9c12670ac"
      },
      "execution_count": null,
      "outputs": [
        {
          "output_type": "stream",
          "name": "stdout",
          "text": [
            "3\n"
          ]
        }
      ]
    },
    {
      "cell_type": "code",
      "source": [
        "#P4 做6-23類題！！！！\n",
        "matrix = [[1,2,3],[4,5,6],[7,8,9],[10,11,12]]\n",
        "total = 0\n",
        "for i in matrix:\n",
        "  total += sum(i)\n",
        "print(total)"
      ],
      "metadata": {
        "colab": {
          "base_uri": "https://localhost:8080/"
        },
        "id": "LFe8pGK3ZFQE",
        "outputId": "61e40b51-48ff-4575-efcf-54b229a4bd33"
      },
      "execution_count": null,
      "outputs": [
        {
          "output_type": "stream",
          "name": "stdout",
          "text": [
            "4\n",
            "78\n"
          ]
        }
      ]
    },
    {
      "cell_type": "code",
      "source": [
        "a = list(\"I have a pen\")\n",
        "b = list(\"and you?\")\n",
        "a.insert(4,\"x5\")\n",
        "a.extend(b)\n",
        "print(a.index(\"u\"))\n",
        "print(a.count(\"a\"))\n",
        "print(a)\n",
        "c = [1,2,3,4,5]\n",
        "c.reverse()\n",
        "d = c.copy()\n",
        "print(c)\n",
        "print(d)\n",
        "print(a.index(\"x5\"))\n",
        "#a.remove(\"x5\")\n",
        "del a[a.index(\"I\"):a.index(\"x5\")]#有冒號：刪除x5，沒冒號：沒刪到x5\n",
        "del b[:]\n",
        "print(a)\n",
        "print(b)"
      ],
      "metadata": {
        "colab": {
          "base_uri": "https://localhost:8080/"
        },
        "id": "era7guA3vJV9",
        "outputId": "bc7eb08f-7524-4c63-ed37-a950e82483f1"
      },
      "execution_count": null,
      "outputs": [
        {
          "output_type": "stream",
          "name": "stdout",
          "text": [
            "19\n",
            "3\n",
            "['I', ' ', 'h', 'a', 'x5', 'v', 'e', ' ', 'a', ' ', 'p', 'e', 'n', 'a', 'n', 'd', ' ', 'y', 'o', 'u', '?']\n",
            "[5, 4, 3, 2, 1]\n",
            "[5, 4, 3, 2, 1]\n",
            "4\n",
            "['x5', 'v', 'e', ' ', 'a', ' ', 'p', 'e', 'n', 'a', 'n', 'd', ' ', 'y', 'o', 'u', '?']\n",
            "[]\n"
          ]
        }
      ]
    },
    {
      "cell_type": "code",
      "source": [
        "L = [0,1,2,3,4,5,6,7,8,9]\n",
        "S = L[0:4]\n",
        "R = L\n",
        "R.pop() #要注意\n",
        "print(L)\n",
        "print(S)"
      ],
      "metadata": {
        "colab": {
          "base_uri": "https://localhost:8080/"
        },
        "id": "K41jFPzuxNzB",
        "outputId": "88ab7c1e-1e28-442c-9c9a-63c9ed689911"
      },
      "execution_count": null,
      "outputs": [
        {
          "output_type": "stream",
          "name": "stdout",
          "text": [
            "[0, 1, 2, 3, 4, 5, 6, 7, 8]\n",
            "[0, 1, 2, 3]\n"
          ]
        }
      ]
    },
    {
      "cell_type": "code",
      "source": [
        "#P5\n",
        "S1 = {1,8,9,7,6}\n",
        "S2 = {2,5,6,8,9}\n",
        "sum = 0\n",
        "\n",
        "print(len(S1))\n",
        "print(S1.issubset(S2))\n",
        "print(S1|S2)\n",
        "print(S1&S2)\n",
        "#print({i for i in S1 if i in S2})\n",
        "print(S1-S2) #S1對S2的差集\n",
        "#print({i for i in S1 if i not in S2})\n",
        "print(S1.symmetric_difference(S2))#補充：對稱交集\n",
        "\n",
        "for i in S1:\n",
        "  sum += i\n",
        "print(sum)"
      ],
      "metadata": {
        "colab": {
          "base_uri": "https://localhost:8080/"
        },
        "id": "gfffN2yQ-hJx",
        "outputId": "2387595b-ac4a-4e23-d214-51702327c3bc"
      },
      "execution_count": null,
      "outputs": [
        {
          "output_type": "stream",
          "name": "stdout",
          "text": [
            "5\n",
            "False\n",
            "{1, 2, 5, 6, 7, 8, 9}\n",
            "{8, 9, 6}\n",
            "{1, 7}\n",
            "{1, 2, 5, 7}\n",
            "31\n"
          ]
        }
      ]
    },
    {
      "cell_type": "markdown",
      "source": [
        "![IMG_0426.webp](data:image/webp;base64,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)"
      ],
      "metadata": {
        "id": "s_Qq-N27KbMi"
      }
    },
    {
      "cell_type": "code",
      "source": [
        "#P6\n",
        "#S1\n",
        "\n",
        "string = list(\"firefighter\")\n",
        "for i in range(len(string)-1,-1,-1): #注意：計算迴圈 不包含終點-1，只算到0 range() 包含順序\n",
        "  print(string[i])\n",
        "\n",
        "\n",
        "#S2\n",
        "'''\n",
        "string = list(\"firefighter\")\n",
        "print(string[::-1])\n",
        "'''\n",
        "'''\n",
        "  •\tarray[::-1] 是利用 切片語法（slice syntax） 來創建一個 反向列表。\n",
        "\t•\t一般切片語法：array[start:end:step]\n",
        "\t•\tstart：切片的開始索引（預設為 0）。\n",
        "\t•\tend：切片的結束索引（預設為列表長度）。 start 到 end 代表作用範圍 不包含順序\n",
        "\t•\tstep：切片的步進值（預設為 1）。\n",
        "\t•\t當 step 為 -1 時，列表會從後往前反轉，即反向切片。\n",
        "'''"
      ],
      "metadata": {
        "colab": {
          "base_uri": "https://localhost:8080/",
          "height": 285
        },
        "id": "-6n-cNmRKiQM",
        "outputId": "70c2ebaa-2d5b-4a40-8653-ad86c86b0f00"
      },
      "execution_count": null,
      "outputs": [
        {
          "output_type": "stream",
          "name": "stdout",
          "text": [
            "r\n",
            "e\n",
            "t\n",
            "h\n",
            "g\n",
            "i\n",
            "f\n",
            "e\n",
            "r\n",
            "i\n",
            "f\n"
          ]
        },
        {
          "output_type": "execute_result",
          "data": {
            "text/plain": [
              "'\\n  •\\tarray[::-1] 是利用 切片語法（slice syntax） 來創建一個 反向列表。\\n\\t•\\t一般切片語法：array[start:end:step]\\n\\t•\\tstart：切片的開始索引（預設為 0）。\\n\\t•\\tend：切片的結束索引（預設為列表長度）。 start 到 end 代表作用範圍 不包含順序\\n\\t•\\tstep：切片的步進值（預設為 1）。\\n\\t•\\t當 step 為 -1 時，列表會從後往前反轉，即反向切片。\\n'"
            ],
            "application/vnd.google.colaboratory.intrinsic+json": {
              "type": "string"
            }
          },
          "metadata": {},
          "execution_count": 8
        }
      ]
    },
    {
      "cell_type": "code",
      "source": [
        "#字串到陣列 移除空格練習\n",
        "L = \"I have a pen, and you\"\n",
        "\n",
        "P = list(L)\n",
        "print(L.split(\" \"))\n",
        "print(list(L))\n",
        "print([i for i in P if i != \" \"])\n",
        "#---分割線---\n",
        "P = list(filter(lambda x: x != \" \",L))\n",
        "print(P)"
      ],
      "metadata": {
        "colab": {
          "base_uri": "https://localhost:8080/"
        },
        "id": "msxv6mNcN07Y",
        "outputId": "ccde4bdf-3447-417d-aa4d-a20780d55bdd"
      },
      "execution_count": null,
      "outputs": [
        {
          "output_type": "stream",
          "name": "stdout",
          "text": [
            "['I', 'have', 'a', 'pen,', 'and', 'you']\n",
            "['I', ' ', 'h', 'a', 'v', 'e', ' ', 'a', ' ', 'p', 'e', 'n', ',', ' ', 'a', 'n', 'd', ' ', 'y', 'o', 'u']\n",
            "['I', 'h', 'a', 'v', 'e', 'a', 'p', 'e', 'n', ',', 'a', 'n', 'd', 'y', 'o', 'u']\n",
            "['I', 'h', 'a', 'v', 'e', 'a', 'p', 'e', 'n', ',', 'a', 'n', 'd', 'y', 'o', 'u']\n"
          ]
        }
      ]
    },
    {
      "cell_type": "code",
      "source": [
        "#6-23\n",
        "a = [[1,2,3],[4,5,6],[7,8,9],[10,11,12]]\n",
        "b = [[1,2,3],[4,5,6],[7,8,9],[10,11,12]]\n",
        "inner = []\n",
        "full = []\n",
        "\n",
        "#注意有兩個matrix\n",
        "for i in range(len(a)):\n",
        "  for j in range(len(a[i])):\n",
        "    inner.append(a[i][j]+b[i][j])\n",
        "  full.append(inner)\n",
        "  inner = []\n",
        "\n",
        "#只有一個matrix\n",
        "for i in full:\n",
        "  for j in range(len(i)):\n",
        "    print(i[j], end=\"\\t\")\n",
        "  print(\"\\n\")\n"
      ],
      "metadata": {
        "colab": {
          "base_uri": "https://localhost:8080/"
        },
        "id": "ZGMnvgI1dWMP",
        "outputId": "42aac5d2-3bd1-4159-c26a-7797b2db298e"
      },
      "execution_count": null,
      "outputs": [
        {
          "output_type": "stream",
          "name": "stdout",
          "text": [
            "2\t4\t6\t\n",
            "\n",
            "8\t10\t12\t\n",
            "\n",
            "14\t16\t18\t\n",
            "\n",
            "20\t22\t24\t\n",
            "\n"
          ]
        }
      ]
    },
    {
      "cell_type": "markdown",
      "source": [
        "# **CH9 Review**"
      ],
      "metadata": {
        "id": "Nnt9TYfvWYcK"
      }
    },
    {
      "cell_type": "markdown",
      "source": [
        "**例子：拿F1車手資料為例**\n",
        "\n",
        "類別：Formula 1 driver\n",
        "\n",
        "物件：Hamilton、Russell\n",
        "\n",
        "屬性（變數）：身高 體重\n",
        "\n",
        "方法：計算BMI有BMI公式"
      ],
      "metadata": {
        "id": "k4VmSthUWeqV"
      }
    },
    {
      "cell_type": "code",
      "source": [
        "class Formula1Driver:\n",
        "    def __init__(self, name, height, weight): #定義屬性\n",
        "        self.name = name        # 車手的名字\n",
        "        self.height = height    # 身高（公分）\n",
        "        self.__weight = weight    # 體重（公斤）（私有屬性，不公開）\n",
        "\n",
        "    def calculate_bmi(self): #計算BMI的方法\n",
        "        # BMI 計算公式：體重(kg) / (身高(m)^2)\n",
        "        height_in_meters = self.height / 100  # 將身高從公分轉換為公尺\n",
        "        bmi = self.__weight / (height_in_meters ** 2)\n",
        "        return round(bmi, 2)  # 返回保留兩位小數的 BMI 值\n",
        "\n",
        "    def info(self):\n",
        "        # 顯示車手的基本資訊和 BMI的方法\n",
        "        bmi = self.calculate_bmi()\n",
        "        return f\"Driver: {self.name}, Height: {self.height} cm, Weight: {self.__weight} kg, BMI: {bmi}\"\n",
        "\n",
        "# 創建 Hamilton 和 Russell 兩個物件\n",
        "hamilton = Formula1Driver(name=\"Lewis Hamilton\", height=174, weight=73) #定義物件資料，會儲存在__init__內\n",
        "russell = Formula1Driver(name=\"George Russell\", height=185, weight=70)\n",
        "\n",
        "# 顯示車手資訊\n",
        "print(hamilton.info())  # 輸出：Driver: Lewis Hamilton, Height: 174 cm, Weight: 73 kg, BMI: 24.11\n",
        "print(russell.info())   # 輸出：Driver: George Russell, Height: 185 cm, Weight: 70 kg, BMI: 20.45\n",
        "print(hamilton.height) #查詢屬性（變數）內的數據\n",
        "print(russell.__weight) #會報錯，不能查看私有屬性"
      ],
      "metadata": {
        "colab": {
          "base_uri": "https://localhost:8080/",
          "height": 251
        },
        "id": "014K0rQaXNSz",
        "outputId": "b9254216-b214-499e-f304-117c9b0e0f52"
      },
      "execution_count": null,
      "outputs": [
        {
          "output_type": "stream",
          "name": "stdout",
          "text": [
            "Driver: Lewis Hamilton, Height: 174 cm, Weight: 73 kg, BMI: 24.11\n",
            "Driver: George Russell, Height: 185 cm, Weight: 70 kg, BMI: 20.45\n",
            "174\n"
          ]
        },
        {
          "output_type": "error",
          "ename": "AttributeError",
          "evalue": "'Formula1Driver' object has no attribute '__weight'",
          "traceback": [
            "\u001b[0;31m---------------------------------------------------------------------------\u001b[0m",
            "\u001b[0;31mAttributeError\u001b[0m                            Traceback (most recent call last)",
            "\u001b[0;32m<ipython-input-1-0f9a27d052f6>\u001b[0m in \u001b[0;36m<cell line: 0>\u001b[0;34m()\u001b[0m\n\u001b[1;32m     24\u001b[0m \u001b[0mprint\u001b[0m\u001b[0;34m(\u001b[0m\u001b[0mrussell\u001b[0m\u001b[0;34m.\u001b[0m\u001b[0minfo\u001b[0m\u001b[0;34m(\u001b[0m\u001b[0;34m)\u001b[0m\u001b[0;34m)\u001b[0m   \u001b[0;31m# 輸出：Driver: George Russell, Height: 185 cm, Weight: 70 kg, BMI: 20.45\u001b[0m\u001b[0;34m\u001b[0m\u001b[0;34m\u001b[0m\u001b[0m\n\u001b[1;32m     25\u001b[0m \u001b[0mprint\u001b[0m\u001b[0;34m(\u001b[0m\u001b[0mhamilton\u001b[0m\u001b[0;34m.\u001b[0m\u001b[0mheight\u001b[0m\u001b[0;34m)\u001b[0m \u001b[0;31m#查詢屬性（變數）內的數據\u001b[0m\u001b[0;34m\u001b[0m\u001b[0;34m\u001b[0m\u001b[0m\n\u001b[0;32m---> 26\u001b[0;31m \u001b[0mprint\u001b[0m\u001b[0;34m(\u001b[0m\u001b[0mrussell\u001b[0m\u001b[0;34m.\u001b[0m\u001b[0m__weight\u001b[0m\u001b[0;34m)\u001b[0m \u001b[0;31m#會報錯，不能查看私有屬性\u001b[0m\u001b[0;34m\u001b[0m\u001b[0;34m\u001b[0m\u001b[0m\n\u001b[0m",
            "\u001b[0;31mAttributeError\u001b[0m: 'Formula1Driver' object has no attribute '__weight'"
          ]
        }
      ]
    },
    {
      "cell_type": "code",
      "source": [
        "class Parent:\n",
        "  def __init__(self,name,id):\n",
        "    self.name = name\n",
        "    self.id = id\n",
        "  def get(self):\n",
        "    return self.name\n",
        "  def Salary(self,hours,payrate):\n",
        "    return hours * payrate\n",
        "\n",
        "class Child(Parent):\n",
        "  def __init__(self,name,id):\n",
        "    super().__init__(name,id)\n",
        "  def Salary(self, hours, payrate):\n",
        "    super().Salary(hours,payrate)\n",
        "  def pr(self,h,p):\n",
        "    return f'{super().get()},{self.id},{super().Salary(h,p)}'\n",
        "\n",
        "test = Child(\"Lewis\",\"H54136118\")\n",
        "print(test.Salary(50,4))\n",
        "test.name = \"Russell\"\n",
        "print(test.pr(50,4))"
      ],
      "metadata": {
        "colab": {
          "base_uri": "https://localhost:8080/"
        },
        "id": "1gTxrQ3dxmtN",
        "outputId": "98bd301b-f181-47a4-9f4f-b2427dad4584"
      },
      "execution_count": null,
      "outputs": [
        {
          "output_type": "stream",
          "name": "stdout",
          "text": [
            "None\n",
            "Russell,H54136118,200\n"
          ]
        }
      ]
    },
    {
      "cell_type": "code",
      "source": [
        "def print_func_name(func):\n",
        "    def wrap():\n",
        "        print(\"Now use function '{}'\".format(func.__name__))  # 打印函式名稱\n",
        "        print(\"Hi\")\n",
        "        func()  # 調用傳入的函式（func()等同於my_function(),因為現在func=my_function)\n",
        "    return wrap  # 返回包裝後的函式\n",
        "\n",
        "@print_func_name # my_function = print_func_name(my_function)，my_function作為參數帶入print_func_name\n",
        "def my_function():\n",
        "    print(\"This is my_function.\")\n",
        "\n",
        "# 使用包裝後的函式\n",
        "my_function() # my_function = print_func_name(my_function),所以會呼叫print_func_name()"
      ],
      "metadata": {
        "colab": {
          "base_uri": "https://localhost:8080/"
        },
        "id": "jelw_IoIxk0M",
        "outputId": "cac4ddec-dfdc-47c2-b20d-0a65bb43d209"
      },
      "execution_count": null,
      "outputs": [
        {
          "output_type": "stream",
          "name": "stdout",
          "text": [
            "Now use function 'my_function'\n",
            "Hi\n",
            "This is my_function.\n"
          ]
        }
      ]
    },
    {
      "cell_type": "markdown",
      "source": [
        "https://www.learncodewithmike.com/2020/01/python-attribute.html\n"
      ],
      "metadata": {
        "id": "Ukic-ZBLzj6f"
      }
    },
    {
      "cell_type": "code",
      "source": [
        "#P1\n",
        "class Circle:\n",
        "    def __init__(self):\n",
        "        self.PI = 3.14  # Make PI an instance attribute\n",
        "        self.radius = 10 # Make radius an instance attribute\n",
        "    def getArea(self):\n",
        "        return self.PI * self.radius * self.radius # Access using self.PI and self.radius\n",
        "\n",
        "C1 = Circle()\n",
        "print(C1.getArea())"
      ],
      "metadata": {
        "colab": {
          "base_uri": "https://localhost:8080/"
        },
        "id": "M4qNq37KsGAO",
        "outputId": "918a67b3-3426-4817-ecbf-643a74a6cb6a"
      },
      "execution_count": null,
      "outputs": [
        {
          "output_type": "stream",
          "name": "stdout",
          "text": [
            "314.0\n"
          ]
        }
      ]
    },
    {
      "cell_type": "code",
      "source": [
        "#P1 s2\n",
        "class Circle:\n",
        "    global PI\n",
        "    PI = 3.14  # Make PI global, if not, it's an class attribute and can't be accessed.\n",
        "    global radius\n",
        "    radius = 10 # Make radius global\n",
        "    def getArea(self):\n",
        "        return PI * radius * radius # Access using self.PI and self.radius\n",
        "\n",
        "C1 = Circle()\n",
        "print(C1.getArea())"
      ],
      "metadata": {
        "colab": {
          "base_uri": "https://localhost:8080/"
        },
        "id": "mdwzHm7ztxh8",
        "outputId": "880698e5-71f6-430e-e616-ac5d7af1168f"
      },
      "execution_count": null,
      "outputs": [
        {
          "output_type": "stream",
          "name": "stdout",
          "text": [
            "314.0\n"
          ]
        }
      ]
    }
  ]
}